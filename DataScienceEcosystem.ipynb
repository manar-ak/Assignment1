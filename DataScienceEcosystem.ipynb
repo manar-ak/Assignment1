{
 "cells": [
  {
   "cell_type": "markdown",
   "id": "ca415963",
   "metadata": {},
   "source": [
    "# Data Science Tools and Ecosystem"
   ]
  },
  {
   "cell_type": "markdown",
   "id": "0afbb381",
   "metadata": {},
   "source": [
    "In this notebook, Data Science Tools and Ecosystem are summarized."
   ]
  },
  {
   "cell_type": "markdown",
   "id": "233def6f",
   "metadata": {},
   "source": [
    "1. Python\n",
    "2. R\n",
    "3. SQL"
   ]
  },
  {
   "cell_type": "markdown",
   "id": "8389e805",
   "metadata": {},
   "source": [
    "1. NumPy\n",
    "2. Pandas\n",
    "3. Matplotlib"
   ]
  },
  {
   "cell_type": "markdown",
   "id": "9e43cbc5",
   "metadata": {},
   "source": [
    "| Data Science Tools     |\n",
    "|------------------------|\n",
    "| Jupyter Notebook       |\n",
    "| RStudio                |\n",
    "| VSCode                 |"
   ]
  },
  {
   "cell_type": "markdown",
   "id": "64fab9f8",
   "metadata": {},
   "source": [
    "### Below are a few examples of evaluating arithmetic expressions in Python\n",
    "\n",
    "R1 = 2+4\n"
   ]
  },
  {
   "cell_type": "markdown",
   "id": "dc3f24a2",
   "metadata": {},
   "source": [
    "R2 = 3*5\n"
   ]
  },
  {
   "cell_type": "markdown",
   "id": "93aad6f0",
   "metadata": {},
   "source": [
    "R3 = 8-8"
   ]
  },
  {
   "cell_type": "code",
   "execution_count": 1,
   "id": "1df1e9b7",
   "metadata": {},
   "outputs": [
    {
     "data": {
      "text/plain": [
       "17"
      ]
     },
     "execution_count": 1,
     "metadata": {},
     "output_type": "execute_result"
    }
   ],
   "source": [
    "#This a simple arithmetic expression to mutiply then add integers\n",
    "\n",
    "(3*4) + 5"
   ]
  },
  {
   "cell_type": "code",
   "execution_count": 3,
   "id": "723b934f",
   "metadata": {},
   "outputs": [
    {
     "data": {
      "text/plain": [
       "3.3333333333333335"
      ]
     },
     "execution_count": 3,
     "metadata": {},
     "output_type": "execute_result"
    }
   ],
   "source": [
    "#This will convert 200 minutes to hours by diving by 60\n",
    "minutes = 200\n",
    "hours = minutes/60\n",
    "hours"
   ]
  },
  {
   "cell_type": "markdown",
   "id": "dbefbc93",
   "metadata": {},
   "source": [
    "**Objectives:**\n",
    "\n",
    "- list data science languages.\n",
    "- list data science libraries.\n",
    "- introducing arithmetic expression.\n"
   ]
  },
  {
   "cell_type": "markdown",
   "id": "5848f2a3",
   "metadata": {},
   "source": [
    "## Author\n",
    "Manar"
   ]
  },
  {
   "cell_type": "code",
   "execution_count": null,
   "id": "17632441",
   "metadata": {},
   "outputs": [],
   "source": []
  }
 ],
 "metadata": {
  "kernelspec": {
   "display_name": "Python 3 (ipykernel)",
   "language": "python",
   "name": "python3"
  },
  "language_info": {
   "codemirror_mode": {
    "name": "ipython",
    "version": 3
   },
   "file_extension": ".py",
   "mimetype": "text/x-python",
   "name": "python",
   "nbconvert_exporter": "python",
   "pygments_lexer": "ipython3",
   "version": "3.9.13"
  }
 },
 "nbformat": 4,
 "nbformat_minor": 5
}
